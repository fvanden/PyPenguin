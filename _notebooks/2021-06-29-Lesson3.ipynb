{
 "cells": [
  {
   "cell_type": "markdown",
   "metadata": {},
   "source": [
    "# Lesson 3 - A first function\n",
    "\n",
    "> An introduction to programming in Python\n",
    "\n",
    "- toc: true \n",
    "- branch: master\n",
    "- badges: true\n",
    "- comments: true\n",
    "- categories: [fastpages, jupyter]"
   ]
  },
  {
   "cell_type": "markdown",
   "metadata": {},
   "source": [
    "# About\n",
    "\n",
    "In this notebook, you will learn to make your first function in Python. \n",
    "\n",
    "In order to run the scripts in this notebook, click on the `launch in binder` or `open in Colab` buttons - wait for a while, this may take some time. Once the notebook is loaded, you can execute scripts in each cell by hitting `SHIFT + ENTER`"
   ]
  },
  {
   "cell_type": "markdown",
   "metadata": {},
   "source": [
    "### Functions explanation\n",
    "\n",
    "Functions are a group of statements that will perform a specific task, this is especially useful for repetitive tasks for which you need a stable output\n",
    "\n",
    "> functions can be combined with loops, which makes programming languages especially powerful"
   ]
  },
  {
   "cell_type": "markdown",
   "metadata": {},
   "source": [
    "### Functions example\n",
    "\n",
    "One of the most famous first functions is \"Hello World\", below is an example of such a function. The function name is `greet` but you can enter any name you like"
   ]
  },
  {
   "cell_type": "code",
   "execution_count": 5,
   "metadata": {},
   "outputs": [],
   "source": [
    "#collapse-hide\n",
    "def greet(name):\n",
    "    \"\"\"\n",
    "    This function greets to\n",
    "    the person passed in as\n",
    "    a parameter\n",
    "    \"\"\"\n",
    "    print(\"Hello, \" + name + \". Good morning!\")"
   ]
  },
  {
   "cell_type": "markdown",
   "metadata": {},
   "source": [
    "### Functions exercise 1\n",
    "\n",
    "<b> Question 1 </b> Enter your name in the function and hit `SHIFT + ENTER` so that it greets you"
   ]
  },
  {
   "cell_type": "code",
   "execution_count": 2,
   "metadata": {},
   "outputs": [
    {
     "name": "stdout",
     "output_type": "stream",
     "text": [
      "Hello, world. Good morning!\n"
     ]
    }
   ],
   "source": [
    "greet(\"world\")"
   ]
  },
  {
   "cell_type": "markdown",
   "metadata": {},
   "source": [
    "### Functions exercise 2\n",
    "\n",
    "As mentioned before, you can combine loops and functions. \n",
    "\n",
    "<b> Question 2 </b> have the function greet multiple people:\n",
    "\n",
    "> step 1: create a list of names\n",
    "\n",
    "> step 2: create a loop \n",
    "\n",
    "> step 3: add the function to the loop\n",
    "\n",
    "If you're struggling, the answer is hidden below"
   ]
  },
  {
   "cell_type": "code",
   "execution_count": null,
   "metadata": {},
   "outputs": [],
   "source": []
  },
  {
   "cell_type": "code",
   "execution_count": 4,
   "metadata": {},
   "outputs": [
    {
     "name": "stdout",
     "output_type": "stream",
     "text": [
      "Hello, pingu. Good morning!\n",
      "Hello, all. Good morning!\n",
      "Hello, creativeTuition. Good morning!\n"
     ]
    }
   ],
   "source": [
    "#collapse-hide\n",
    "list_of_names = [\"pingu\", \"all\", \"creativeTuition\"]\n",
    "\n",
    "for name in list_of_names:\n",
    "    greet(name)"
   ]
  },
  {
   "cell_type": "code",
   "execution_count": null,
   "metadata": {},
   "outputs": [],
   "source": []
  }
 ],
 "metadata": {
  "kernelspec": {
   "display_name": "Python 3",
   "language": "python",
   "name": "python3"
  },
  "language_info": {
   "codemirror_mode": {
    "name": "ipython",
    "version": 3
   },
   "file_extension": ".py",
   "mimetype": "text/x-python",
   "name": "python",
   "nbconvert_exporter": "python",
   "pygments_lexer": "ipython3",
   "version": "3.7.6"
  }
 },
 "nbformat": 4,
 "nbformat_minor": 4
}
