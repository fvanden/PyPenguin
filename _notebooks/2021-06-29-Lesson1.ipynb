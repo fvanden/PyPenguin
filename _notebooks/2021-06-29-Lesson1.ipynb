{
 "cells": [
  {
   "cell_type": "markdown",
   "metadata": {},
   "source": [
    "# Lesson 1 - values, arrays and matrices\n",
    "> An introduction to programming in Python\n",
    "\n",
    "- toc: true \n",
    "- badges: true\n",
    "- comments: true\n",
    "- categories: [jupyter]\n",
    "- image: images/chart-preview.png"
   ]
  },
  {
   "cell_type": "code",
   "execution_count": 1,
   "metadata": {},
   "outputs": [],
   "source": [
    "#hide_input\n",
    "import numpy as np"
   ]
  },
  {
   "cell_type": "markdown",
   "metadata": {},
   "source": [
    "# About\n",
    "\n",
    "In this notebook, you will learn the difference between values, arrays and matrices used in Python. \n",
    "\n",
    "In order to run the scripts in this notebook, click on the `launch in binder` or `open in Colab` buttons - wait for a while, this may take some time. Once the notebook is loaded, you can execute scripts in each cell by hitting `SHIFT + ENTER`"
   ]
  },
  {
   "cell_type": "markdown",
   "metadata": {},
   "source": [
    "## values, arrays and matrices\n",
    "\n",
    "Imagine your colleague is counting penguins on an ice floe, the number of penguins she counts on that floe will be a [value](#valueexample) \n",
    "\n",
    "If your colleague is counting penguins on several different ice floes, she will end up with a <b> list of values </b> or an [array](#arrayexample)  \n",
    "\n",
    "Finally, if your colleague is counting penguins using still satellite images from space, she might decide to divide the image into boxes of equal sizes and count the number of penguins in each box. She will end up with a <b> list of lists </b> in either the horizontal or vertical direction. Such a <b> list of lists </b> is also called a [matrix](#matrixexample)  "
   ]
  },
  {
   "cell_type": "markdown",
   "metadata": {},
   "source": [
    "### value explanation\n",
    "<a id = \"valueexample\" value></a>\n",
    "\n",
    "In Python, there are different <b> Data Types </b>: such as numbers (integers, floats and complex), strings and boolean values.\n",
    "    \n",
    "> if your colleague is counting the number of penguins on an ice floe, she will end up with a number like 1, 4 or 10. This is called an <b> integer </b>, because it is a whole number\n",
    "    \n",
    "> if your colleague decides to divide the ice floe into boxes and count the number of penguins in each box, she might find a penguin sitting on the edge between two boxes. She can then decide to say that there are 0.5 penguins in that box. Any number with a fraction (for example 2.3, 1.6778 etc,) is called a <b> floating point number </b> or a <b> float </b>\n",
    "\n",
    "> complex numbers are beyond the scope of this tutorial, for more information see [this explanation](https://www.mathsisfun.com/numbers/complex-numbers.html)\n",
    "\n",
    "> if your colleague decides to give each penguin a name, she might note these downs. Values which are sequences of characters are called <b> strings </b> in Python\n",
    "\n",
    "> Finally, if your colleague is only interested in whether or not there are any penguins sitting on an ice floe, she might only note down True (there are penguins) or False (there are no penguins). This is called a <b> boolean value </b>"
   ]
  },
  {
   "cell_type": "markdown",
   "metadata": {},
   "source": [
    "### value example\n",
    "\n",
    "`![](my_icons/numbers.png)`\n",
    "\n"
   ]
  },
  {
   "cell_type": "markdown",
   "metadata": {},
   "source": [
    "### value exercise 1\n",
    "\n",
    "Python can let you know what the type is of the value that you're looking at. In the example below, change the value to:\n",
    "<ul>\n",
    "    <li> a <b> float </b> (i.e. 2.5) </li>\n",
    "    <li> a <b> string </b> (i.e. \"Pingu\") NOTE: you have to put a string in parentheses! </li>\n",
    "    <li> a <b> boolean </b> value (i.e. True)</li>\n",
    "</ul>\n",
    "\n",
    "Click on the box and remember to hit `SHIFT + ENTER` to execute the code"
   ]
  },
  {
   "cell_type": "code",
   "execution_count": 2,
   "metadata": {},
   "outputs": [
    {
     "data": {
      "text/plain": [
       "bool"
      ]
     },
     "execution_count": 2,
     "metadata": {},
     "output_type": "execute_result"
    }
   ],
   "source": [
    "type(True)"
   ]
  },
  {
   "cell_type": "markdown",
   "metadata": {},
   "source": [
    "### value exercise 2\n",
    "\n",
    "Depending on whether your <b> Data Type </b> is an integer, float or boolean value, there are certain operations that you can or can not perform. Operations include multiplication `*`, division `/`, addition `+`, subtraction `-` and exponentiation `**`\n",
    "\n",
    "Try some operations on different data types below. \n",
    "\n",
    "<b> Question 1a </b> what happens when you multiply a string value? (i.e. ` \"Penguin\" `)?\n",
    "\n",
    "<b> Question 1b </b> what happens when you divise a string value? (i.e. ` \"Penguin\" `)?\n",
    "\n",
    "<b> Question 2a </b> what happens when you multiply or divise a boolean value? (i.e. `True`)? Note: type True without parenthesis, but with a capital letter\n",
    "\n",
    "<b> Question 2b </b> what does this tell you about the value of True?\n",
    "\n",
    "<b> Question 3 (bonus) </b> what is the value of False?"
   ]
  },
  {
   "cell_type": "code",
   "execution_count": 3,
   "metadata": {},
   "outputs": [
    {
     "data": {
      "text/plain": [
       "'PenguinPenguin'"
      ]
     },
     "execution_count": 3,
     "metadata": {},
     "output_type": "execute_result"
    }
   ],
   "source": [
    "\"Penguin\" *2"
   ]
  },
  {
   "cell_type": "markdown",
   "metadata": {},
   "source": [
    "### array explanation\n",
    "<a id = \"arrayexample\" array></a>\n",
    "\n",
    "Remember that your colleague might want to note down the number of Penguins at different sites or locations. This would result in a <b> list of values </b>. \n",
    "\n",
    "> If all the values in the list are of the same <b> Data Type </b> (integer, float etc) we call it an <b> array </b>.  \n",
    "    \n",
    "The position of a value in a list or array is called an <b> index </b>, indices can help you query lists to find the a value at a specific location. If your colleague for example wanted to know what the number of penguins at location 3 were, she could would need to consult the value of the 3rd index\n",
    "\n",
    "> Note: in Python, the first index is 0. This means that if you want to know the 3rd value in your list, you need to consult index 2. This is different for different programming languages. \n"
   ]
  },
  {
   "cell_type": "markdown",
   "metadata": {},
   "source": [
    "### array example\n",
    "\n",
    "`![](my_icons/array.png)`"
   ]
  },
  {
   "cell_type": "markdown",
   "metadata": {},
   "source": [
    "### array exercise\n",
    "\n",
    "In the code below, an array is created which is called `locations_list` (you can click `Show code` to see it).\n",
    "\n",
    "You can see the length of a list (the total number of locations) by typing `len(locations_list)`\n",
    "\n",
    "<b> Question 4a </b> what is the length of the locations list?\n",
    "\n",
    "You can also find the values of the number of penguins found at each location. In the example below, the value for the first location is obtained by typing (`locations_list[0]`).\n",
    "\n",
    "<b> Question 4b </b> change the code to extract the number of penguins at the 3rd location, what is the value?\n",
    "\n",
    "There is another list called `penguin_names`\n",
    "\n",
    "By changing the code in either of the boxes below, try to find:\n",
    "\n",
    "<b> Question 5b </b> The length of the list with penguin_names \n",
    "\n",
    "<b> Question 5b </b> All of the values in the list"
   ]
  },
  {
   "cell_type": "code",
   "execution_count": 4,
   "metadata": {},
   "outputs": [],
   "source": [
    "#collapse-hide\n",
    "\n",
    "locations_list = [7,8,5,10,12,3,9,18,8,4]\n"
   ]
  },
  {
   "cell_type": "code",
   "execution_count": 5,
   "metadata": {},
   "outputs": [],
   "source": [
    "#hide\n",
    "\n",
    "penguin_names = [\"Shackleton\",\"Amundsen\",\"Scott\",\"Nansen\"]"
   ]
  },
  {
   "cell_type": "code",
   "execution_count": 6,
   "metadata": {},
   "outputs": [
    {
     "data": {
      "text/plain": [
       "10"
      ]
     },
     "execution_count": 6,
     "metadata": {},
     "output_type": "execute_result"
    }
   ],
   "source": [
    "len(locations_list)"
   ]
  },
  {
   "cell_type": "code",
   "execution_count": 7,
   "metadata": {},
   "outputs": [
    {
     "data": {
      "text/plain": [
       "7"
      ]
     },
     "execution_count": 7,
     "metadata": {},
     "output_type": "execute_result"
    }
   ],
   "source": [
    "locations_list[0]"
   ]
  },
  {
   "cell_type": "markdown",
   "metadata": {},
   "source": [
    "### matrix explanation\n",
    "<a id = \"matrixexample\" matrix></a>\n",
    "    \n",
    "Finally, if your colleague is interested in counting penguins using satellite images, she might divide the image into boxes of equal sizes and count the number of penguins in each box. A <b> list of lists </b> is called a <b> matrix </b>. \n",
    "\n",
    "> Like with arrays or lists, matrix indices start at 0 in Python. By convention, row indices come first in Python\n",
    "\n"
   ]
  },
  {
   "cell_type": "markdown",
   "metadata": {},
   "source": [
    "### matrix example\n",
    "\n",
    "`![](my_icons/matrix.png)`"
   ]
  },
  {
   "cell_type": "markdown",
   "metadata": {},
   "source": [
    "### matrix exercise\n",
    "\n",
    "In the code below, a matrix is created which is called `locations_matrix` (you can click `Show code` to see it).\n",
    "\n",
    "You can see the matrix by typing the name and hitting `SHIFT + ENTER` or the shape of the matrix by typing `locations_matrix.shape`\n",
    "\n",
    "Finally, you can see the value of the upper left hand corner of the matrix (or first row, first column) by typing `locations_matrix[0][0]` \n",
    "\n",
    "<b> Question 6 </b> what is the value of the bottom right hand corner of the matrix (last row, last column)?"
   ]
  },
  {
   "cell_type": "code",
   "execution_count": 8,
   "metadata": {},
   "outputs": [],
   "source": [
    "#collapse-hide\n",
    "\n",
    "locations_matrix = np.array([[7,8,5],[10,12,3],[9,18,8]])"
   ]
  },
  {
   "cell_type": "code",
   "execution_count": 9,
   "metadata": {},
   "outputs": [
    {
     "data": {
      "text/plain": [
       "array([[ 7,  8,  5],\n",
       "       [10, 12,  3],\n",
       "       [ 9, 18,  8]])"
      ]
     },
     "execution_count": 9,
     "metadata": {},
     "output_type": "execute_result"
    }
   ],
   "source": [
    "locations_matrix"
   ]
  },
  {
   "cell_type": "code",
   "execution_count": 10,
   "metadata": {},
   "outputs": [
    {
     "data": {
      "text/plain": [
       "(3, 3)"
      ]
     },
     "execution_count": 10,
     "metadata": {},
     "output_type": "execute_result"
    }
   ],
   "source": [
    "locations_matrix.shape"
   ]
  },
  {
   "cell_type": "code",
   "execution_count": 11,
   "metadata": {},
   "outputs": [
    {
     "data": {
      "text/plain": [
       "7"
      ]
     },
     "execution_count": 11,
     "metadata": {},
     "output_type": "execute_result"
    }
   ],
   "source": [
    "locations_matrix[0][0]"
   ]
  }
 ],
 "metadata": {
  "kernelspec": {
   "display_name": "Python 3",
   "language": "python",
   "name": "python3"
  },
  "language_info": {
   "codemirror_mode": {
    "name": "ipython",
    "version": 3
   },
   "file_extension": ".py",
   "mimetype": "text/x-python",
   "name": "python",
   "nbconvert_exporter": "python",
   "pygments_lexer": "ipython3",
   "version": "3.7.6"
  }
 },
 "nbformat": 4,
 "nbformat_minor": 4
}
