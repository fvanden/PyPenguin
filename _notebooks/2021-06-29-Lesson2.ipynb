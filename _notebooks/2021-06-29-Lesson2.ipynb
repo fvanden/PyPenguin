{
 "cells": [
  {
   "cell_type": "markdown",
   "metadata": {},
   "source": [
    "# Lesson 2 - the concept of loops\n",
    "\n",
    "> An introduction to programming in Python\n",
    "\n",
    "- toc: true \n",
    "- branch: master\n",
    "- badges: true\n",
    "- comments: true\n",
    "- categories: [fastpages, jupyter]"
   ]
  },
  {
   "cell_type": "markdown",
   "metadata": {},
   "source": [
    "# About\n",
    "\n",
    "In this notebook, you will learn the basic concept of loops in Python. \n",
    "\n",
    "In order to run the scripts in this notebook, click on the `launch in binder` or `open in Colab` buttons - wait for a while, this may take some time. Once the notebook is loaded, you can execute scripts in each cell by hitting `SHIFT + ENTER`"
   ]
  },
  {
   "cell_type": "markdown",
   "metadata": {},
   "source": [
    "## Let's start with a game...\n",
    "\n",
    "> go to [this](https://pypenguinmaze.herokuapp.com/) page \n",
    "\n",
    "> it will take some time to load, but eventually you will see an image similar to the one below\n",
    "\n",
    "> while you move, the image may flicker.. please take care and if this bothers you, skip the exercise\n",
    "\n",
    "![](my_icons/maze1.png)"
   ]
  },
  {
   "cell_type": "markdown",
   "metadata": {},
   "source": [
    "### matrix introduction exercise\n",
    "\n",
    "<b> Question 1 </b> Note down the number of moves you made and in what order. For example, 2 times left then 2 times down etc. \n",
    "\n",
    "You should notice that the moves are quite repetitive. There might be an easier way to navigate over the ice sheet, without having to repeat the moves each time. In programming we use loops to execute repetitive actions. The next exercise will illustrate what a loop is. "
   ]
  },
  {
   "cell_type": "markdown",
   "metadata": {},
   "source": [
    "### loops explanation\n",
    "\n",
    "In Python, loops are used to perform repetitive actions.\n",
    "\n",
    "> there are two major types of loops in Python: `FOR` loops and `WHILE` loops. Here, we will look at the `FOR` loop first   \n",
    "\n"
   ]
  },
  {
   "cell_type": "markdown",
   "metadata": {},
   "source": [
    "### loops example\n",
    "\n",
    "In the previous example, you moved right twice, then down twice first. In the code below, these actions have been embedded in Python loops (Note that the text is just printed out). \n",
    "\n",
    "<b> Question 2 </b> See if you can add extra lines to the script to make the other moves print out correctly"
   ]
  },
  {
   "cell_type": "code",
   "execution_count": 5,
   "metadata": {},
   "outputs": [
    {
     "name": "stdout",
     "output_type": "stream",
     "text": [
      "move right\n",
      "move right\n",
      "move down\n",
      "move down\n"
     ]
    }
   ],
   "source": [
    "for i in range(0,2):\n",
    "    print(\"move right\")\n",
    "    \n",
    "for i in range(0,2):\n",
    "    print(\"move down\")"
   ]
  },
  {
   "cell_type": "code",
   "execution_count": null,
   "metadata": {},
   "outputs": [],
   "source": []
  }
 ],
 "metadata": {
  "kernelspec": {
   "display_name": "Python 3",
   "language": "python",
   "name": "python3"
  },
  "language_info": {
   "codemirror_mode": {
    "name": "ipython",
    "version": 3
   },
   "file_extension": ".py",
   "mimetype": "text/x-python",
   "name": "python",
   "nbconvert_exporter": "python",
   "pygments_lexer": "ipython3",
   "version": "3.7.6"
  }
 },
 "nbformat": 4,
 "nbformat_minor": 4
}
