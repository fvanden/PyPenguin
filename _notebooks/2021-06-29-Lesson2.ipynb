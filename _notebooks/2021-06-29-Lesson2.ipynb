{
 "cells": [
  {
   "cell_type": "markdown",
   "metadata": {},
   "source": [
    "# Lesson 2 - the concept of loops\n",
    "\n",
    "> An introduction to programming in Python\n",
    "\n",
    "- toc: true \n",
    "- branch: master\n",
    "- badges: true\n",
    "- comments: true\n",
    "- categories: [fastpages, jupyter]"
   ]
  },
  {
   "cell_type": "code",
   "execution_count": 1,
   "metadata": {},
   "outputs": [],
   "source": [
    "!git clone https://github.com/fvanden/pymaze.git\n",
    "import sys\n",
    "from google.colab import files\n",
    "files.os.chdir('pymaze')\n",
    "\n",
    "#hide_input\n",
    "%matplotlib inline\n",
    "from pymaze.PyPenguin.l1w1 import *\n",
    "from IPython.display import HTML, display\n"
   ]
  },
  {
   "cell_type": "markdown",
   "metadata": {},
   "source": [
    "# About\n",
    "\n",
    "In this notebook, you will learn the basic concept of loops in Python. \n",
    "\n",
    "In order to run the scripts in this notebook, click on the `open in Colab` button - wait for a while, this may take some time. Once the notebook is loaded, you can execute scripts in each cell by hitting `SHIFT + ENTER`"
   ]
  },
  {
   "cell_type": "markdown",
   "metadata": {},
   "source": [
    "## Let's start with a game...\n",
    "\n",
    "![](my_icons/matrix.png)\n",
    "\n",
    "> Meet Pingu! He needs to meet up with his friend at the other side of the ice sheet. Use the arrows to navigate him safely through the maze of crevasses!"
   ]
  },
  {
   "cell_type": "code",
   "execution_count": 2,
   "metadata": {},
   "outputs": [
    {
     "data": {
      "application/vnd.jupyter.widget-view+json": {
       "model_id": "1915a4db705c4d92a1c320f79714aca5",
       "version_major": 2,
       "version_minor": 0
      },
      "text/plain": [
       "VBox(children=(HBox(children=(Button(button_style='success', description='<- left', style=ButtonStyle(), toolt…"
      ]
     },
     "metadata": {},
     "output_type": "display_data"
    }
   ],
   "source": [
    "#collapse-hide\n",
    "allbox"
   ]
  },
  {
   "cell_type": "markdown",
   "metadata": {},
   "source": [
    "### matrix introduction exercise\n",
    "\n",
    "<b> Question 1 </b> Note down the number of moves you made and in what order. For example, 2 times left then 2 times down etc. \n",
    "\n",
    "You should notice that the moves are quite repetitive. There might be an easier way to navigate over the ice sheet, without having to repeat the moves each time. In programming we use loops to execute repetitive actions. The next exercise will illustrate what a loop is. "
   ]
  },
  {
   "cell_type": "markdown",
   "metadata": {},
   "source": [
    "### loops explanation\n",
    "\n",
    "In Python, loops are used to perform repetitive actions.\n",
    "\n",
    "> there are two major types of loops in Python: `FOR` loops and `WHILE` loops. Here, we will look at the `FOR` loop first   \n",
    "\n"
   ]
  },
  {
   "cell_type": "markdown",
   "metadata": {},
   "source": [
    "### loops example\n",
    "\n",
    "In the previous example, you moved right twice, then down twice first. In the code below, these actions have been embedded in Python loops (Note that the text is just printed out). \n",
    "\n",
    "<b> Question 2 </b> See if you can add extra lines to the script to make the other moves print out correctly"
   ]
  },
  {
   "cell_type": "code",
   "execution_count": 5,
   "metadata": {},
   "outputs": [
    {
     "name": "stdout",
     "output_type": "stream",
     "text": [
      "move right\n",
      "move right\n",
      "move down\n",
      "move down\n"
     ]
    }
   ],
   "source": [
    "for i in range(0,2):\n",
    "    print(\"move right\")\n",
    "    \n",
    "for i in range(0,2):\n",
    "    print(\"move down\")"
   ]
  },
  {
   "cell_type": "code",
   "execution_count": null,
   "metadata": {},
   "outputs": [],
   "source": []
  }
 ],
 "metadata": {
  "kernelspec": {
   "display_name": "Python 3",
   "language": "python",
   "name": "python3"
  },
  "language_info": {
   "codemirror_mode": {
    "name": "ipython",
    "version": 3
   },
   "file_extension": ".py",
   "mimetype": "text/x-python",
   "name": "python",
   "nbconvert_exporter": "python",
   "pygments_lexer": "ipython3",
   "version": "3.7.6"
  }
 },
 "nbformat": 4,
 "nbformat_minor": 4
}
